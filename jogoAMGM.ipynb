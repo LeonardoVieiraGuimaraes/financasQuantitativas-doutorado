{
 "cells": [
  {
   "cell_type": "code",
   "execution_count": 1,
   "id": "f1527dfa-ecf2-45be-9f7f-9f94d9634727",
   "metadata": {},
   "outputs": [],
   "source": [
    "jogoAM <- function(M) { \n",
    "    avg = 15/30*(1-M) + 14/30*(1-M/2) + 1/30*(1+50*M) - 1\n",
    "           }"
   ]
  },
  {
   "cell_type": "code",
   "execution_count": 2,
   "id": "f0cb0ba5-a77b-428d-a8b7-22f2a16719ec",
   "metadata": {},
   "outputs": [],
   "source": [
    "jogoGM <- function(M) { \n",
    "    tim = (1-M)^(15/30) * ((1-M/2)^(14/30)) * ((1+50*M)^(1/30)) - 1 \n",
    "           }"
   ]
  },
  {
   "cell_type": "code",
   "execution_count": 12,
   "id": "c936dd8b-875d-484c-a913-94d3e06c9f4c",
   "metadata": {},
   "outputs": [],
   "source": [
    "data = seq(0, 1, by = 0.01)\n"
   ]
  },
  {
   "cell_type": "code",
   "execution_count": 13,
   "id": "69fc68f5-ca31-415f-a7d5-2d6c0e973119",
   "metadata": {},
   "outputs": [
    {
     "data": {
      "text/html": [
       "0.933333333333333"
      ],
      "text/latex": [
       "0.933333333333333"
      ],
      "text/markdown": [
       "0.933333333333333"
      ],
      "text/plain": [
       "[1] 0.9333333"
      ]
     },
     "metadata": {},
     "output_type": "display_data"
    },
    {
     "data": {
      "text/html": [
       "101"
      ],
      "text/latex": [
       "101"
      ],
      "text/markdown": [
       "101"
      ],
      "text/plain": [
       "[1] 101"
      ]
     },
     "metadata": {},
     "output_type": "display_data"
    },
    {
     "data": {
      "text/html": [
       "1"
      ],
      "text/latex": [
       "1"
      ],
      "text/markdown": [
       "1"
      ],
      "text/plain": [
       "[1] 1"
      ]
     },
     "metadata": {},
     "output_type": "display_data"
    }
   ],
   "source": [
    "am = jogoAM(data)\n",
    "max(am)\n",
    "which.max(am)\n",
    "data[which.max(am)]"
   ]
  },
  {
   "cell_type": "code",
   "execution_count": 18,
   "id": "def05689-7e84-4aa3-9230-28ad19b261dd",
   "metadata": {},
   "outputs": [
    {
     "data": {
      "text/html": [
       "0.00834804786105225"
      ],
      "text/latex": [
       "0.00834804786105225"
      ],
      "text/markdown": [
       "0.00834804786105225"
      ],
      "text/plain": [
       "[1] 0.008348048"
      ]
     },
     "metadata": {},
     "output_type": "display_data"
    },
    {
     "data": {
      "text/html": [
       "0.02"
      ],
      "text/latex": [
       "0.02"
      ],
      "text/markdown": [
       "0.02"
      ],
      "text/plain": [
       "[1] 0.02"
      ]
     },
     "metadata": {},
     "output_type": "display_data"
    }
   ],
   "source": [
    "gm = jogoGM(data)\n",
    "max(gm)\n",
    "data[which.max(gm)]"
   ]
  },
  {
   "cell_type": "code",
   "execution_count": 10,
   "id": "d1da3343-51f3-4810-acde-684d9fefa1d3",
   "metadata": {},
   "outputs": [
    {
     "data": {
      "image/png": "[encoded data removed]",
      "text/plain": [
       "plot without title"
      ]
     },
     "metadata": {},
     "output_type": "display_data"
    }
   ],
   "source": [
    "plot(data, am, type = \"l\", ylim = c(-1, 1), col = \"blue\")\n",
    "lines(data, gm, col = \"red\")\n",
    "abline(a = 0, b = 0)"
   ]
  },
  {
   "cell_type": "code",
   "execution_count": null,
   "id": "e5f57c37-613d-4c57-9339-c650a10cd413",
   "metadata": {},
   "outputs": [],
   "source": []
  }
 ],
 "metadata": {
  "kernelspec": {
   "display_name": "R",
   "language": "R",
   "name": "ir"
  },
  "language_info": {
   "codemirror_mode": "r",
   "file_extension": ".r",
   "mimetype": "text/x-r-source",
   "name": "R",
   "pygments_lexer": "r",
   "version": "3.6.1"
  }
 },
 "nbformat": 4,
 "nbformat_minor": 5
}
