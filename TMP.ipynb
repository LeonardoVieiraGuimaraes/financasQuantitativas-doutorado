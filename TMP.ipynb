{
 "cells": [
  {
   "cell_type": "code",
   "execution_count": 91,
   "id": "82e9145c-a568-43f7-aec4-92f8ccb26975",
   "metadata": {},
   "outputs": [],
   "source": [
    "mu.A = 0.08\n",
    "mu.B = 0.03\n",
    "rho.AB = 0.15\n",
    "sig.A = 0.12\n",
    "sig.B = 0.11\n",
    "sig2.A = sig.A^2\n",
    "sig2.B = sig.B^2\n",
    "sig.AB = rho.AB*sig.A*sig.B"
   ]
  },
  {
   "cell_type": "code",
   "execution_count": 92,
   "id": "f4009c0c-6495-4b4d-a61a-0576c6a1598e",
   "metadata": {},
   "outputs": [
    {
     "data": {
      "text/html": [
       "0.448979591836735"
      ],
      "text/latex": [
       "0.448979591836735"
      ],
      "text/markdown": [
       "0.448979591836735"
      ],
      "text/plain": [
       "[1] 0.4489796"
      ]
     },
     "metadata": {},
     "output_type": "display_data"
    },
    {
     "data": {
      "text/html": [
       "0.551020408163265"
      ],
      "text/latex": [
       "0.551020408163265"
      ],
      "text/markdown": [
       "0.551020408163265"
      ],
      "text/plain": [
       "[1] 0.5510204"
      ]
     },
     "metadata": {},
     "output_type": "display_data"
    },
    {
     "data": {
      "text/html": [
       "0.0524489795918367"
      ],
      "text/latex": [
       "0.0524489795918367"
      ],
      "text/markdown": [
       "0.0524489795918367"
      ],
      "text/plain": [
       "[1] 0.05244898"
      ]
     },
     "metadata": {},
     "output_type": "display_data"
    },
    {
     "data": {
      "text/html": [
       "0.0869271334544758"
      ],
      "text/latex": [
       "0.0869271334544758"
      ],
      "text/markdown": [
       "0.0869271334544758"
      ],
      "text/plain": [
       "[1] 0.08692713"
      ]
     },
     "metadata": {},
     "output_type": "display_data"
    }
   ],
   "source": [
    "wA.min = (sig2.B - sig.AB)/(sig2.A + sig2.B - 2*sig.AB)\n",
    "wB.min = 1 - wA.min\n",
    "wA.min\n",
    "wB.min\n",
    "mu.p.min = wA.min*mu.A + wB.min*mu.B\n",
    "sig2.p.min = wA.min^2 * sig2.A + wB.min^2 * sig2.B + 2*wA.min*wB.min*sig.AB\n",
    "sig.p.min = sqrt(sig2.p.min)\n",
    "mu.p.min\n",
    "sig.p.min"
   ]
  },
  {
   "cell_type": "code",
   "execution_count": 93,
   "id": "9c886aac-d64c-4596-a050-40df640504a8",
   "metadata": {},
   "outputs": [],
   "source": [
    "wA.min = 1\n",
    "wB.min = 0"
   ]
  },
  {
   "cell_type": "code",
   "execution_count": 94,
   "id": "e74cd48d-8bdd-4cb7-a4ac-0ea96f58e25b",
   "metadata": {},
   "outputs": [
    {
     "data": {
      "text/html": [
       "0.448979591836735"
      ],
      "text/latex": [
       "0.448979591836735"
      ],
      "text/markdown": [
       "0.448979591836735"
      ],
      "text/plain": [
       "[1] 0.4489796"
      ]
     },
     "metadata": {},
     "output_type": "display_data"
    },
    {
     "data": {
      "text/html": [
       "0.551020408163265"
      ],
      "text/latex": [
       "0.551020408163265"
      ],
      "text/markdown": [
       "0.551020408163265"
      ],
      "text/plain": [
       "[1] 0.5510204"
      ]
     },
     "metadata": {},
     "output_type": "display_data"
    },
    {
     "data": {
      "text/html": [
       "0.0524489795918367"
      ],
      "text/latex": [
       "0.0524489795918367"
      ],
      "text/markdown": [
       "0.0524489795918367"
      ],
      "text/plain": [
       "[1] 0.05244898"
      ]
     },
     "metadata": {},
     "output_type": "display_data"
    },
    {
     "data": {
      "text/html": [
       "0.0869271334544758"
      ],
      "text/latex": [
       "0.0869271334544758"
      ],
      "text/markdown": [
       "0.0869271334544758"
      ],
      "text/plain": [
       "[1] 0.08692713"
      ]
     },
     "metadata": {},
     "output_type": "display_data"
    }
   ],
   "source": [
    "wA.min = (sig2.B - sig.AB)/(sig2.A + sig2.B - 2*sig.AB)\n",
    "wB.min = 1 - wA.min\n",
    "wA.min\n",
    "wB.min\n",
    "mu.p.min = wA.min*mu.A + wB.min*mu.B\n",
    "sig2.p.min = wA.min^2 * sig2.A + wB.min^2 * sig2.B + 2*wA.min*wB.min*sig.AB\n",
    "sig.p.min = sqrt(sig2.p.min)\n",
    "mu.p.min\n",
    "sig.p.min"
   ]
  },
  {
   "cell_type": "code",
   "execution_count": 95,
   "id": "036b5589-7245-4675-baaa-ac2cb4ea1c2a",
   "metadata": {},
   "outputs": [],
   "source": [
    "wA.min = 0\n",
    "wB.min = 1"
   ]
  },
  {
   "cell_type": "code",
   "execution_count": 96,
   "id": "5f905c25-34f2-4f01-898a-a1bba06fb03d",
   "metadata": {},
   "outputs": [
    {
     "data": {
      "text/html": [
       "0.448979591836735"
      ],
      "text/latex": [
       "0.448979591836735"
      ],
      "text/markdown": [
       "0.448979591836735"
      ],
      "text/plain": [
       "[1] 0.4489796"
      ]
     },
     "metadata": {},
     "output_type": "display_data"
    },
    {
     "data": {
      "text/html": [
       "0.551020408163265"
      ],
      "text/latex": [
       "0.551020408163265"
      ],
      "text/markdown": [
       "0.551020408163265"
      ],
      "text/plain": [
       "[1] 0.5510204"
      ]
     },
     "metadata": {},
     "output_type": "display_data"
    },
    {
     "data": {
      "text/html": [
       "0.0524489795918367"
      ],
      "text/latex": [
       "0.0524489795918367"
      ],
      "text/markdown": [
       "0.0524489795918367"
      ],
      "text/plain": [
       "[1] 0.05244898"
      ]
     },
     "metadata": {},
     "output_type": "display_data"
    },
    {
     "data": {
      "text/html": [
       "0.0869271334544758"
      ],
      "text/latex": [
       "0.0869271334544758"
      ],
      "text/markdown": [
       "0.0869271334544758"
      ],
      "text/plain": [
       "[1] 0.08692713"
      ]
     },
     "metadata": {},
     "output_type": "display_data"
    }
   ],
   "source": [
    "wA.min = (sig2.B - sig.AB)/(sig2.A + sig2.B - 2*sig.AB)\n",
    "wB.min = 1 - wA.min\n",
    "wA.min\n",
    "wB.min\n",
    "mu.p.min = wA.min*mu.A + wB.min*mu.B\n",
    "sig2.p.min = wA.min^2 * sig2.A + wB.min^2 * sig2.B + 2*wA.min*wB.min*sig.AB\n",
    "sig.p.min = sqrt(sig2.p.min)\n",
    "mu.p.min\n",
    "sig.p.min"
   ]
  },
  {
   "cell_type": "code",
   "execution_count": 55,
   "id": "6d91e3c4-0a08-4813-a1ca-c1fc756a50d4",
   "metadata": {},
   "outputs": [],
   "source": [
    "wA.min = 0.4\n",
    "wB.min = 0.6"
   ]
  },
  {
   "cell_type": "code",
   "execution_count": 97,
   "id": "297fd1e8-28d9-4cfe-aa3f-d4562035bedd",
   "metadata": {},
   "outputs": [
    {
     "data": {
      "text/html": [
       "0.448979591836735"
      ],
      "text/latex": [
       "0.448979591836735"
      ],
      "text/markdown": [
       "0.448979591836735"
      ],
      "text/plain": [
       "[1] 0.4489796"
      ]
     },
     "metadata": {},
     "output_type": "display_data"
    },
    {
     "data": {
      "text/html": [
       "0.551020408163265"
      ],
      "text/latex": [
       "0.551020408163265"
      ],
      "text/markdown": [
       "0.551020408163265"
      ],
      "text/plain": [
       "[1] 0.5510204"
      ]
     },
     "metadata": {},
     "output_type": "display_data"
    },
    {
     "data": {
      "text/html": [
       "0.0524489795918367"
      ],
      "text/latex": [
       "0.0524489795918367"
      ],
      "text/markdown": [
       "0.0524489795918367"
      ],
      "text/plain": [
       "[1] 0.05244898"
      ]
     },
     "metadata": {},
     "output_type": "display_data"
    },
    {
     "data": {
      "text/html": [
       "0.0869271334544758"
      ],
      "text/latex": [
       "0.0869271334544758"
      ],
      "text/markdown": [
       "0.0869271334544758"
      ],
      "text/plain": [
       "[1] 0.08692713"
      ]
     },
     "metadata": {},
     "output_type": "display_data"
    }
   ],
   "source": [
    "wA.min = (sig2.B - sig.AB)/(sig2.A + sig2.B - 2*sig.AB)\n",
    "wB.min = 1 - wA.min\n",
    "wA.min\n",
    "wB.min\n",
    "mu.p.min = wA.min*mu.A + wB.min*mu.B\n",
    "sig2.p.min = wA.min^2 * sig2.A + wB.min^2 * sig2.B + 2*wA.min*wB.min*sig.AB\n",
    "sig.p.min = sqrt(sig2.p.min)\n",
    "mu.p.min\n",
    "sig.p.min"
   ]
  },
  {
   "cell_type": "code",
   "execution_count": 66,
   "id": "b16e28d8-2b60-41ee-b50f-25dbabb191a6",
   "metadata": {},
   "outputs": [],
   "source": [
    "w.A = seq(from=-0.4, to=1.4, by=0.1)\n",
    "w.B = 1 - w.A"
   ]
  },
  {
   "cell_type": "code",
   "execution_count": 98,
   "id": "53af3c95-ed7d-43dc-8951-ce984dcba3d8",
   "metadata": {},
   "outputs": [
    {
     "data": {
      "image/png": "[encoded data removed]",
      "text/plain": [
       "plot without title"
      ]
     },
     "metadata": {},
     "output_type": "display_data"
    }
   ],
   "source": [
    "w.A = seq(from=-0.4, to=1.4, by=0.1)\n",
    "w.B = 1 - w.A\n",
    "mu.p = w.A * mu.A + w.B * mu.B\n",
    "sig2.p = w.A^2 * sig.A + w.B^2 * sig.B + 2 * w.A * w.B * sig.AB\n",
    "sig.p = sqrt(sig2.p)\n",
    "plot(sig.p, mu.p, type=\"b\", pch=16,\n",
    "       ylim=c(0, max(mu.p)), xlim=c(0, max(sig.p)),\n",
    "       xlab=expression(sigma[p]), ylab=expression(mu[p]),\n",
    "       col=c(rep(\"red\", 6), rep(\"green\", 13)))\n",
    "text(x=sig.A, y=mu.A, labels=\"Asset A\", pos=4)\n",
    "text(x=sig.B, y=mu.B, labels=\"Asset B\", pos=4)\n"
   ]
  },
  {
   "cell_type": "code",
   "execution_count": 101,
   "id": "0e8b0e4e-a29c-45c4-ad66-fea90ba30647",
   "metadata": {},
   "outputs": [],
   "source": [
    "mu.p.min = 10/100\n",
    "wA.min  = (mu.p.min - mu.B)/( mu.A - mu.B)\n",
    "wB.min = 1 - wA.min"
   ]
  },
  {
   "cell_type": "code",
   "execution_count": 102,
   "id": "2e324b78-5d21-43bb-a230-f5a26be0a268",
   "metadata": {},
   "outputs": [
    {
     "data": {
      "text/html": [
       "-0.4"
      ],
      "text/latex": [
       "-0.4"
      ],
      "text/markdown": [
       "-0.4"
      ],
      "text/plain": [
       "[1] -0.4"
      ]
     },
     "metadata": {},
     "output_type": "display_data"
    },
    {
     "data": {
      "text/html": [
       "1.4"
      ],
      "text/latex": [
       "1.4"
      ],
      "text/markdown": [
       "1.4"
      ],
      "text/plain": [
       "[1] 1.4"
      ]
     },
     "metadata": {},
     "output_type": "display_data"
    }
   ],
   "source": [
    "wB.min\n",
    "wA.min"
   ]
  },
  {
   "cell_type": "code",
   "execution_count": 103,
   "id": "22ac4780-f486-4899-8680-6b9a41452a3a",
   "metadata": {},
   "outputs": [
    {
     "data": {
      "text/html": [
       "0.167159803780694"
      ],
      "text/latex": [
       "0.167159803780694"
      ],
      "text/markdown": [
       "0.167159803780694"
      ],
      "text/plain": [
       "[1] 0.1671598"
      ]
     },
     "metadata": {},
     "output_type": "display_data"
    }
   ],
   "source": [
    "sig2.p.min = wA.min^2 * sig2.A + wB.min^2 * sig2.B + 2*wA.min*wB.min*sig.AB\n",
    "sig.p.min = sqrt(sig2.p.min)\n",
    "sig.p.min"
   ]
  },
  {
   "cell_type": "code",
   "execution_count": null,
   "id": "8c451232-fe74-46a7-95f5-535b7e98ac1e",
   "metadata": {},
   "outputs": [],
   "source": []
  }
 ],
 "metadata": {
  "kernelspec": {
   "display_name": "R",
   "language": "R",
   "name": "ir"
  },
  "language_info": {
   "codemirror_mode": "r",
   "file_extension": ".r",
   "mimetype": "text/x-r-source",
   "name": "R",
   "pygments_lexer": "r",
   "version": "3.6.1"
  }
 },
 "nbformat": 4,
 "nbformat_minor": 5
}
